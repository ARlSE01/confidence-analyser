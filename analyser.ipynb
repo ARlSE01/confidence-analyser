{
 "cells": [
  {
   "cell_type": "code",
   "execution_count": 1,
   "metadata": {},
   "outputs": [],
   "source": [
    "import mediapipe as mp\n",
    "import cv2\n",
    "import numpy as np\n",
    "import pandas as pd"
   ]
  },
  {
   "cell_type": "code",
   "execution_count": 2,
   "metadata": {},
   "outputs": [],
   "source": [
    "mp_drawing=mp.solutions.drawing_utils\n",
    "mp_holistic=mp.solutions.holistic"
   ]
  },
  {
   "cell_type": "markdown",
   "metadata": {},
   "source": [
    "Initial feed and marking landmarks"
   ]
  },
  {
   "cell_type": "code",
   "execution_count": 3,
   "metadata": {},
   "outputs": [],
   "source": [
    "cap=cv2.VideoCapture(0)\n",
    "with mp_holistic.Holistic(min_detection_confidence=0.5,min_tracking_confidence=0.5) as holistic:\n",
    "    while cap.isOpened():\n",
    "        ret,frame=cap.read()\n",
    "        image=cv2.cvtColor(frame,cv2.COLOR_BGR2RGB)\n",
    "        image.flags.writeable=False\n",
    "\n",
    "\n",
    "        results=holistic.process(image)\n",
    "\n",
    "\n",
    "        image.flags.writeable=True\n",
    "        image=cv2.cvtColor(image,cv2.COLOR_RGB2BGR)\n",
    "\n",
    "        mp_drawing.draw_landmarks(image,results.face_landmarks,mp_holistic.FACEMESH_TESSELATION,mp_drawing.DrawingSpec(color=(0,0,0),thickness=1,circle_radius=1),mp_drawing.DrawingSpec(color=(80,110,10),thickness=1,circle_radius=1))\n",
    "\n",
    "        mp_drawing.draw_landmarks(image,results.left_hand_landmarks,mp_holistic.HAND_CONNECTIONS,mp_drawing.DrawingSpec(color=(80,110,10),thickness=1,circle_radius=1),mp_drawing.DrawingSpec(color=(80,110,10),thickness=1,circle_radius=1))\n",
    "        \n",
    "        mp_drawing.draw_landmarks(image,results.right_hand_landmarks,mp_holistic.HAND_CONNECTIONS,mp_drawing.DrawingSpec(color=(80,110,10),thickness=1,circle_radius=1),mp_drawing.DrawingSpec(color=(80,110,10),thickness=1,circle_radius=1))\n",
    "        \n",
    "        mp_drawing.draw_landmarks(image,results.pose_landmarks,mp_holistic.POSE_CONNECTIONS,mp_drawing.DrawingSpec(color=(80,110,10),thickness=1,circle_radius=1),mp_drawing.DrawingSpec(color=(80,110,10),thickness=1,circle_radius=1))\n",
    "\n",
    "\n",
    "        cv2.imshow(\"feed\",image)\n",
    "        \n",
    "        if cv2.waitKey(100) & 0xFF==ord(\"q\"):\n",
    "            break\n",
    "    cap.release()\n",
    "    cv2.destroyAllWindows()"
   ]
  },
  {
   "cell_type": "code",
   "execution_count": 26,
   "metadata": {},
   "outputs": [
    {
     "data": {
      "text/plain": [
       "0.0"
      ]
     },
     "execution_count": 26,
     "metadata": {},
     "output_type": "execute_result"
    }
   ],
   "source": [
    "results.face_landmarks.landmark[0].visibility"
   ]
  },
  {
   "cell_type": "markdown",
   "metadata": {},
   "source": [
    "CSV"
   ]
  },
  {
   "cell_type": "code",
   "execution_count": 3,
   "metadata": {},
   "outputs": [],
   "source": [
    "import os\n",
    "import csv"
   ]
  },
  {
   "cell_type": "code",
   "execution_count": 5,
   "metadata": {},
   "outputs": [
    {
     "data": {
      "text/plain": [
       "543"
      ]
     },
     "execution_count": 5,
     "metadata": {},
     "output_type": "execute_result"
    }
   ],
   "source": [
    "coord=len(results.pose_landmarks.landmark)+len(results.face_landmarks.landmark)+21+21\n",
    "coord"
   ]
  },
  {
   "cell_type": "code",
   "execution_count": 6,
   "metadata": {},
   "outputs": [],
   "source": [
    "landmarks=[\"class\",\"subclass\",\"condition\"]\n",
    "for i in range(1,coord+1):\n",
    "    landmarks+=[\"x{}\".format(i),\"y{}\".format(i),\"z{}\".format(i),\"v{}\".format(i)]\n"
   ]
  },
  {
   "cell_type": "code",
   "execution_count": 7,
   "metadata": {},
   "outputs": [],
   "source": [
    "with open(\"coordinates.csv\",mode=\"w\",newline='') as f:\n",
    "    csv_writer=csv.writer(f,delimiter=\",\",quotechar='\"',quoting=csv.QUOTE_MINIMAL)\n",
    "    csv_writer.writerow(landmarks)"
   ]
  },
  {
   "cell_type": "markdown",
   "metadata": {},
   "source": [
    "extracting poses and their coords"
   ]
  },
  {
   "cell_type": "code",
   "execution_count": 4,
   "metadata": {},
   "outputs": [],
   "source": [
    "classname=\"face\"\n",
    "subclass=\"smile\"\n",
    "condition=\"good\""
   ]
  },
  {
   "cell_type": "code",
   "execution_count": 30,
   "metadata": {},
   "outputs": [],
   "source": [
    "cap=cv2.VideoCapture(0)\n",
    "with mp_holistic.Holistic(min_detection_confidence=0.5,min_tracking_confidence=0.5) as holistic:\n",
    "    while cap.isOpened():\n",
    "        ret,frame=cap.read()\n",
    "        image=cv2.cvtColor(frame,cv2.COLOR_BGR2RGB)\n",
    "        image.flags.writeable=False\n",
    "\n",
    "\n",
    "        results=holistic.process(image)\n",
    "\n",
    "\n",
    "        image.flags.writeable=True\n",
    "        image=cv2.cvtColor(image,cv2.COLOR_RGB2BGR)\n",
    "\n",
    "        mp_drawing.draw_landmarks(image,results.face_landmarks,mp_holistic.FACEMESH_TESSELATION,mp_drawing.DrawingSpec(color=(0,0,0),thickness=1,circle_radius=1),mp_drawing.DrawingSpec(color=(80,110,10),thickness=1,circle_radius=1))\n",
    "\n",
    "        mp_drawing.draw_landmarks(image,results.left_hand_landmarks,mp_holistic.HAND_CONNECTIONS,mp_drawing.DrawingSpec(color=(80,110,10),thickness=1,circle_radius=1),mp_drawing.DrawingSpec(color=(80,110,10),thickness=1,circle_radius=1))\n",
    "        \n",
    "        mp_drawing.draw_landmarks(image,results.right_hand_landmarks,mp_holistic.HAND_CONNECTIONS,mp_drawing.DrawingSpec(color=(80,110,10),thickness=1,circle_radius=1),mp_drawing.DrawingSpec(color=(80,110,10),thickness=1,circle_radius=1))\n",
    "        \n",
    "        mp_drawing.draw_landmarks(image,results.pose_landmarks,mp_holistic.POSE_CONNECTIONS,mp_drawing.DrawingSpec(color=(80,110,10),thickness=1,circle_radius=1),mp_drawing.DrawingSpec(color=(80,110,10),thickness=1,circle_radius=1))\n",
    "\n",
    "        left_hand_poses,right_hand_poses=None,None\n",
    "\n",
    "        try:\n",
    "            poses=results.pose_landmarks.landmark\n",
    "            pose_row=list(np.array([[landmark.x,landmark.y,landmark.z,landmark.visibility] for landmark in poses]).flatten())\n",
    "\n",
    "            face_poses=results.face_landmarks.landmark\n",
    "            face_row=list(np.array([[landmark.x,landmark.y,landmark.z,landmark.visibility] for landmark in face_poses]).flatten())\n",
    "\n",
    "            #deal with cases where hand isnt detected\n",
    "            left_hand_poses=results.left_hand_landmarks\n",
    "            if left_hand_poses:\n",
    "                left_hand_poses=results.left_hand_landmarks.landmark\n",
    "                left_hand_row=list(np.array([[landmark.x,landmark.y,landmark.z,landmark.visibility] for landmark in left_hand_poses]).flatten())\n",
    "            else:\n",
    "                left_hand_row=[0]*(21*4)\n",
    "\n",
    "            right_hand_poses=results.right_hand_landmarks\n",
    "            if right_hand_poses:\n",
    "                right_hand_poses=results.right_hand_landmarks.landmark\n",
    "                right_hand_row=list(np.array([[landmark.x,landmark.y,landmark.z,landmark.visibility] for landmark in right_hand_poses]).flatten())\n",
    "            else:\n",
    "                right_hand_row=[0]*(21*4)\n",
    "\n",
    "            row=pose_row+left_hand_row+right_hand_row+face_row\n",
    "            row.insert(0,classname)\n",
    "            row.insert(1,subclass)\n",
    "            row.insert(2,condition)\n",
    "\n",
    "            with open(\"coordinates.csv\",mode=\"a\",newline='') as f:\n",
    "                csv_writer=csv.writer(f,delimiter=\",\",quotechar='\"',quoting=csv.QUOTE_MINIMAL)\n",
    "                csv_writer.writerow(row)\n",
    "        except:\n",
    "            pass\n",
    "\n",
    "\n",
    "        cv2.imshow(\"feed\",image)\n",
    "        \n",
    "        if cv2.waitKey(100) & 0xFF==ord(\"q\"):\n",
    "            break\n",
    "    cap.release()\n",
    "    cv2.destroyAllWindows()"
   ]
  },
  {
   "cell_type": "code",
   "execution_count": 28,
   "metadata": {},
   "outputs": [
    {
     "data": {
      "text/plain": [
       "2175"
      ]
     },
     "execution_count": 28,
     "metadata": {},
     "output_type": "execute_result"
    }
   ],
   "source": []
  },
  {
   "cell_type": "code",
   "execution_count": 17,
   "metadata": {},
   "outputs": [
    {
     "data": {
      "text/plain": [
       "[0.5374516248703003,\n",
       " 0.5445611476898193,\n",
       " -1.3374149799346924,\n",
       " 0.998854398727417,\n",
       " 0.5655264258384705,\n",
       " 0.4737181067466736,\n",
       " -1.2603517770767212,\n",
       " 0.9980114698410034,\n",
       " 0.5820627212524414,\n",
       " 0.47362950444221497,\n",
       " -1.2609684467315674,\n",
       " 0.9981318116188049,\n",
       " 0.5993592739105225,\n",
       " 0.4750102460384369,\n",
       " -1.2611280679702759,\n",
       " 0.9976445436477661,\n",
       " 0.5062063932418823,\n",
       " 0.4792427718639374,\n",
       " -1.2729709148406982,\n",
       " 0.9982413053512573,\n",
       " 0.48467928171157837,\n",
       " 0.48172345757484436,\n",
       " -1.272695779800415,\n",
       " 0.9984803199768066,\n",
       " 0.4653407037258148,\n",
       " 0.4837382733821869,\n",
       " -1.2733867168426514,\n",
       " 0.9984688758850098,\n",
       " 0.6245622634887695,\n",
       " 0.5127922892570496,\n",
       " -0.7620664238929749,\n",
       " 0.9975228905677795,\n",
       " 0.4338712692260742,\n",
       " 0.521263599395752,\n",
       " -0.804248034954071,\n",
       " 0.9988958835601807,\n",
       " 0.5694273710250854,\n",
       " 0.6176755428314209,\n",
       " -1.146939754486084,\n",
       " 0.9988582730293274,\n",
       " 0.4985264241695404,\n",
       " 0.6204915642738342,\n",
       " -1.1599647998809814,\n",
       " 0.9993542432785034,\n",
       " 0.7693522572517395,\n",
       " 0.8996641635894775,\n",
       " -0.45520442724227905,\n",
       " 0.9872409701347351,\n",
       " 0.28316184878349304,\n",
       " 0.900304913520813,\n",
       " -0.49697574973106384,\n",
       " 0.9913026094436646,\n",
       " 0.8378452062606812,\n",
       " 1.304438829421997,\n",
       " -0.4583950638771057,\n",
       " 0.08695267885923386,\n",
       " 0.18553420901298523,\n",
       " 1.3506158590316772,\n",
       " -0.43216562271118164,\n",
       " 0.19683492183685303,\n",
       " 0.8324538469314575,\n",
       " 1.6311780214309692,\n",
       " -1.0004253387451172,\n",
       " 0.014021237380802631,\n",
       " 0.20352455973625183,\n",
       " 1.686462163925171,\n",
       " -0.981318473815918,\n",
       " 0.029590917751193047,\n",
       " 0.8564489483833313,\n",
       " 1.7436349391937256,\n",
       " -1.164693832397461,\n",
       " 0.022270651534199715,\n",
       " 0.19045843183994293,\n",
       " 1.804603934288025,\n",
       " -1.1516920328140259,\n",
       " 0.037511587142944336,\n",
       " 0.8177133798599243,\n",
       " 1.738376259803772,\n",
       " -1.260168433189392,\n",
       " 0.03645171597599983,\n",
       " 0.22914990782737732,\n",
       " 1.7946217060089111,\n",
       " -1.2659621238708496,\n",
       " 0.06283218413591385,\n",
       " 0.7968422770500183,\n",
       " 1.6914576292037964,\n",
       " -1.066946268081665,\n",
       " 0.03500363975763321,\n",
       " 0.24431535601615906,\n",
       " 1.7445366382598877,\n",
       " -1.0509077310562134,\n",
       " 0.06061232089996338,\n",
       " 0.6911104917526245,\n",
       " 1.7031744718551636,\n",
       " -0.06321965903043747,\n",
       " 0.0009705731063149869,\n",
       " 0.3840652108192444,\n",
       " 1.7121729850769043,\n",
       " 0.06835167855024338,\n",
       " 0.0009242896921932697,\n",
       " 0.6889716982841492,\n",
       " 2.3694968223571777,\n",
       " -0.022477947175502777,\n",
       " 0.0037537249736487865,\n",
       " 0.40443411469459534,\n",
       " 2.359499931335449,\n",
       " -0.015107490122318268,\n",
       " 0.0009420684073120356,\n",
       " 0.707068920135498,\n",
       " 2.9698071479797363,\n",
       " 0.70273756980896,\n",
       " 0.00021072535309940577,\n",
       " 0.43825650215148926,\n",
       " 2.954890012741089,\n",
       " 0.5282255411148071,\n",
       " 5.927280290052295e-05,\n",
       " 0.7122424840927124,\n",
       " 3.0704524517059326,\n",
       " 0.7343791723251343,\n",
       " 0.0001416652521584183,\n",
       " 0.44021862745285034,\n",
       " 3.0570321083068848,\n",
       " 0.5582265853881836,\n",
       " 0.00011540317063918337,\n",
       " 0.6734841465950012,\n",
       " 3.160933017730713,\n",
       " 0.04540354013442993,\n",
       " 0.00030303109087981284,\n",
       " 0.4802274703979492,\n",
       " 3.128376007080078,\n",
       " -0.18425820767879486,\n",
       " 0.00028182033565826714]"
      ]
     },
     "execution_count": 17,
     "metadata": {},
     "output_type": "execute_result"
    }
   ],
   "source": [
    "poses=results.pose_landmarks.landmark\n",
    "pose_row=list(np.array([[landmark.x,landmark.y,landmark.z,landmark.visibility] for landmark in poses]).flatten())\n",
    "pose_row"
   ]
  }
 ],
 "metadata": {
  "kernelspec": {
   "display_name": "venv",
   "language": "python",
   "name": "python3"
  },
  "language_info": {
   "codemirror_mode": {
    "name": "ipython",
    "version": 3
   },
   "file_extension": ".py",
   "mimetype": "text/x-python",
   "name": "python",
   "nbconvert_exporter": "python",
   "pygments_lexer": "ipython3",
   "version": "3.10.0"
  }
 },
 "nbformat": 4,
 "nbformat_minor": 2
}
